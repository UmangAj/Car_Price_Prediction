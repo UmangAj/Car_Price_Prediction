{
 "cells": [
  {
   "cell_type": "markdown",
   "id": "e5f6baf4",
   "metadata": {},
   "source": [
    "***\n",
    "# Car Price Prediction\n",
    "***"
   ]
  },
  {
   "cell_type": "code",
   "execution_count": null,
   "id": "57f6a9d0",
   "metadata": {},
   "outputs": [],
   "source": [
    "import pandas as pd\n",
    "import numpy as np\n",
    "import seaborn as sns"
   ]
  },
  {
   "cell_type": "code",
   "execution_count": null,
   "id": "547ab08f",
   "metadata": {},
   "outputs": [],
   "source": [
    "df = pd.read_csv(\"CarPrice.csv\")"
   ]
  },
  {
   "cell_type": "code",
   "execution_count": null,
   "id": "94382f2a",
   "metadata": {},
   "outputs": [],
   "source": [
    "df.head()"
   ]
  },
  {
   "cell_type": "code",
   "execution_count": null,
   "id": "7d713412",
   "metadata": {},
   "outputs": [],
   "source": [
    "df.shape"
   ]
  },
  {
   "cell_type": "code",
   "execution_count": null,
   "id": "0d79b347",
   "metadata": {},
   "outputs": [],
   "source": [
    "df.info()"
   ]
  },
  {
   "cell_type": "markdown",
   "id": "cf118646",
   "metadata": {},
   "source": [
    "## 1. Data Preprocessing "
   ]
  },
  {
   "cell_type": "code",
   "execution_count": null,
   "id": "52d1ee24",
   "metadata": {},
   "outputs": [],
   "source": [
    "Backup = df.copy()"
   ]
  },
  {
   "cell_type": "code",
   "execution_count": null,
   "id": "44c99a1f",
   "metadata": {
    "scrolled": true
   },
   "outputs": [],
   "source": [
    "df[\"CarName\"].unique()"
   ]
  },
  {
   "cell_type": "code",
   "execution_count": null,
   "id": "96cf585c",
   "metadata": {},
   "outputs": [],
   "source": [
    "df[\"fueltype\"].unique()"
   ]
  },
  {
   "cell_type": "code",
   "execution_count": null,
   "id": "1c138cee",
   "metadata": {},
   "outputs": [],
   "source": [
    "df[\"carbody\"].unique()"
   ]
  },
  {
   "cell_type": "code",
   "execution_count": null,
   "id": "188e1d2d",
   "metadata": {},
   "outputs": [],
   "source": [
    "df[\"drivewheel\"].unique()"
   ]
  },
  {
   "cell_type": "code",
   "execution_count": null,
   "id": "1a9999d4",
   "metadata": {},
   "outputs": [],
   "source": [
    "df[\"enginetype\"].unique()"
   ]
  },
  {
   "cell_type": "code",
   "execution_count": null,
   "id": "b6d324ad",
   "metadata": {},
   "outputs": [],
   "source": [
    " df[\"horsepower\"].unique()"
   ]
  },
  {
   "cell_type": "code",
   "execution_count": null,
   "id": "635af984",
   "metadata": {
    "scrolled": true
   },
   "outputs": [],
   "source": [
    "df[\"price\"].unique()"
   ]
  },
  {
   "cell_type": "code",
   "execution_count": null,
   "id": "ecb81bff",
   "metadata": {},
   "outputs": [],
   "source": [
    "df =  df[[\"CarName\",\"fueltype\",\"carbody\",\"drivewheel\",\"enginetype\", \"horsepower\", \"price\"]]"
   ]
  },
  {
   "cell_type": "code",
   "execution_count": null,
   "id": "51da812c",
   "metadata": {},
   "outputs": [],
   "source": [
    "df"
   ]
  },
  {
   "cell_type": "code",
   "execution_count": null,
   "id": "19732269",
   "metadata": {},
   "outputs": [],
   "source": [
    "df.rename(columns = {\"CarName\" : \"carname\"}, inplace=True)"
   ]
  },
  {
   "cell_type": "code",
   "execution_count": null,
   "id": "01c04bc0",
   "metadata": {},
   "outputs": [],
   "source": [
    "df"
   ]
  },
  {
   "cell_type": "code",
   "execution_count": null,
   "id": "22416749",
   "metadata": {},
   "outputs": [],
   "source": [
    "df.describe()"
   ]
  },
  {
   "cell_type": "code",
   "execution_count": null,
   "id": "a597a1cc",
   "metadata": {},
   "outputs": [],
   "source": [
    "# outliers in price\n",
    "\n",
    "df[df[\"price\"]>40000.00]"
   ]
  },
  {
   "cell_type": "code",
   "execution_count": null,
   "id": "59db86a5",
   "metadata": {},
   "outputs": [],
   "source": [
    "df = df[df[\"price\"]<=40000.00]\n",
    "df.head()"
   ]
  },
  {
   "cell_type": "code",
   "execution_count": null,
   "id": "3c8ea995",
   "metadata": {},
   "outputs": [],
   "source": [
    "# outliers in horsepower\n",
    "\n",
    "df[df[\"horsepower\"]>250.00]"
   ]
  },
  {
   "cell_type": "code",
   "execution_count": null,
   "id": "81cf546d",
   "metadata": {},
   "outputs": [],
   "source": [
    "df = df[df[\"horsepower\"]<=250.00]\n",
    "df.head()"
   ]
  },
  {
   "cell_type": "code",
   "execution_count": null,
   "id": "a62b47ac",
   "metadata": {},
   "outputs": [],
   "source": [
    "df.describe()"
   ]
  },
  {
   "cell_type": "code",
   "execution_count": null,
   "id": "4779f231",
   "metadata": {},
   "outputs": [],
   "source": [
    "df.shape"
   ]
  },
  {
   "cell_type": "markdown",
   "id": "07023340",
   "metadata": {},
   "source": [
    "## 2. Exploratory Data Analysis (EDA)\n"
   ]
  },
  {
   "cell_type": "code",
   "execution_count": null,
   "id": "6b66888b",
   "metadata": {},
   "outputs": [],
   "source": [
    "df.head()"
   ]
  },
  {
   "cell_type": "code",
   "execution_count": null,
   "id": "442a045c",
   "metadata": {},
   "outputs": [],
   "source": [
    "sns.pairplot(df)"
   ]
  },
  {
   "cell_type": "code",
   "execution_count": null,
   "id": "2915bcdf",
   "metadata": {},
   "outputs": [],
   "source": [
    "sns.histplot(df[\"price\"])"
   ]
  },
  {
   "cell_type": "code",
   "execution_count": null,
   "id": "60ad9005",
   "metadata": {},
   "outputs": [],
   "source": [
    "sns.histplot(df[\"horsepower\"])"
   ]
  },
  {
   "cell_type": "code",
   "execution_count": null,
   "id": "059940f8",
   "metadata": {},
   "outputs": [],
   "source": [
    "df.to_csv(\"Cleaned_CarPrice.csv \")"
   ]
  },
  {
   "cell_type": "markdown",
   "id": "ae757233",
   "metadata": {},
   "source": [
    "## 3. Model Building"
   ]
  },
  {
   "cell_type": "code",
   "execution_count": null,
   "id": "a528241b",
   "metadata": {},
   "outputs": [],
   "source": [
    "X = df.drop(columns=\"price\")\n",
    "Y = df[\"price\"]"
   ]
  },
  {
   "cell_type": "code",
   "execution_count": null,
   "id": "5fca243a",
   "metadata": {},
   "outputs": [],
   "source": [
    "X.head()"
   ]
  },
  {
   "cell_type": "code",
   "execution_count": null,
   "id": "5eb5fed1",
   "metadata": {},
   "outputs": [],
   "source": [
    "Y.head()"
   ]
  },
  {
   "cell_type": "code",
   "execution_count": null,
   "id": "3d463c60",
   "metadata": {},
   "outputs": [],
   "source": [
    "from sklearn.model_selection import train_test_split\n",
    "X_train, X_test, Y_train, Y_test = train_test_split(X, Y, test_size=0.2)"
   ]
  },
  {
   "cell_type": "code",
   "execution_count": null,
   "id": "6e796d94",
   "metadata": {},
   "outputs": [],
   "source": [
    "from sklearn.linear_model import LinearRegression\n",
    "from sklearn.metrics import r2_score\n",
    "from sklearn.preprocessing import OneHotEncoder\n",
    "from sklearn.compose import make_column_transformer\n",
    "from sklearn.pipeline import make_pipeline"
   ]
  },
  {
   "cell_type": "code",
   "execution_count": null,
   "id": "1447dd15",
   "metadata": {},
   "outputs": [],
   "source": [
    "ohe = OneHotEncoder(handle_unknown='ignore')\n",
    "ohe.fit(X[[\"carname\", \"fueltype\", \"carbody\", \"drivewheel\", \"enginetype\"]])\n"
   ]
  },
  {
   "cell_type": "code",
   "execution_count": null,
   "id": "dcb8268c",
   "metadata": {},
   "outputs": [],
   "source": [
    "column_trans = make_column_transformer((OneHotEncoder(categories=ohe.categories_),[\"carname\", \"fueltype\", \"carbody\", \"drivewheel\", \"enginetype\"]),\n",
    " remainder=\"passthrough\")"
   ]
  },
  {
   "cell_type": "code",
   "execution_count": null,
   "id": "19c1c2d3",
   "metadata": {},
   "outputs": [],
   "source": [
    "lr = LinearRegression()"
   ]
  },
  {
   "cell_type": "code",
   "execution_count": null,
   "id": "df6d98e6",
   "metadata": {},
   "outputs": [],
   "source": [
    "pipe = make_pipeline(column_trans, lr)"
   ]
  },
  {
   "cell_type": "code",
   "execution_count": null,
   "id": "c11ba1fd",
   "metadata": {},
   "outputs": [],
   "source": [
    "pipe.fit(X_train, Y_train)"
   ]
  },
  {
   "cell_type": "code",
   "execution_count": null,
   "id": "e4c73edb",
   "metadata": {},
   "outputs": [],
   "source": [
    "Y_pred = pipe.predict(X_test)\n",
    "Y_pred"
   ]
  },
  {
   "cell_type": "code",
   "execution_count": null,
   "id": "2ffbe544",
   "metadata": {},
   "outputs": [],
   "source": [
    "r2_score(Y_test, Y_pred)"
   ]
  },
  {
   "cell_type": "code",
   "execution_count": null,
   "id": "a203007b",
   "metadata": {},
   "outputs": [],
   "source": [
    "scores = []\n",
    "for i in range(1000):\n",
    "    X_train, X_test, Y_train, Y_test = train_test_split(X, Y, test_size=0.2, random_state=i)\n",
    "    lr=LinearRegression()\n",
    "    pipe = make_pipeline(column_trans, lr)\n",
    "    pipe.fit(X_train, Y_train) \n",
    "    Y_pred = pipe.predict(X_test)\n",
    "    scores.append(r2_score(Y_test, Y_pred))"
   ]
  },
  {
   "cell_type": "code",
   "execution_count": null,
   "id": "9db1d0fb",
   "metadata": {},
   "outputs": [],
   "source": [
    "np.argmax(scores)"
   ]
  },
  {
   "cell_type": "code",
   "execution_count": null,
   "id": "a6c511a4",
   "metadata": {},
   "outputs": [],
   "source": [
    "scores[np.argmax(scores)]"
   ]
  },
  {
   "cell_type": "code",
   "execution_count": null,
   "id": "f881b521",
   "metadata": {},
   "outputs": [],
   "source": [
    "X_train, X_test, Y_train, Y_test = train_test_split(X, Y, test_size=0.2, random_state=np.argmax(scores))\n",
    "lr=LinearRegression()\n",
    "pipe = make_pipeline(column_trans, lr)\n",
    "pipe.fit(X_train, Y_train) \n",
    "Y_pred = pipe.predict(X_test)\n",
    "r2_score(Y_test, Y_pred)"
   ]
  },
  {
   "cell_type": "code",
   "execution_count": null,
   "id": "7867ba0b",
   "metadata": {},
   "outputs": [],
   "source": [
    "import pickle"
   ]
  },
  {
   "cell_type": "code",
   "execution_count": null,
   "id": "1698939c",
   "metadata": {},
   "outputs": [],
   "source": [
    "pickle.dump(pipe, open(\"cpp.pkl\", \"wb\"))"
   ]
  },
  {
   "cell_type": "code",
   "execution_count": null,
   "id": "d70dbef8",
   "metadata": {},
   "outputs": [],
   "source": []
  },
  {
   "cell_type": "code",
   "execution_count": null,
   "id": "c7863ffc",
   "metadata": {},
   "outputs": [],
   "source": []
  },
  {
   "cell_type": "code",
   "execution_count": null,
   "id": "52945589",
   "metadata": {},
   "outputs": [],
   "source": []
  }
 ],
 "metadata": {
  "kernelspec": {
   "display_name": "Python 3 (ipykernel)",
   "language": "python",
   "name": "python3"
  },
  "language_info": {
   "codemirror_mode": {
    "name": "ipython",
    "version": 3
   },
   "file_extension": ".py",
   "mimetype": "text/x-python",
   "name": "python",
   "nbconvert_exporter": "python",
   "pygments_lexer": "ipython3",
   "version": "3.10.7"
  }
 },
 "nbformat": 4,
 "nbformat_minor": 5
}
